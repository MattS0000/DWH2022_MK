{
 "cells": [
  {
   "cell_type": "code",
   "execution_count": 105,
   "id": "domestic-brunei",
   "metadata": {},
   "outputs": [],
   "source": [
    "import pandas as pd"
   ]
  },
  {
   "cell_type": "code",
   "execution_count": 113,
   "id": "voluntary-accommodation",
   "metadata": {},
   "outputs": [],
   "source": [
    "orders = pd.read_csv(\"orders.csv\")"
   ]
  },
  {
   "cell_type": "code",
   "execution_count": 114,
   "id": "mechanical-murray",
   "metadata": {},
   "outputs": [
    {
     "data": {
      "text/plain": [
       "array([     1,      2,      3, ..., 206207, 206208, 206209], dtype=int64)"
      ]
     },
     "execution_count": 114,
     "metadata": {},
     "output_type": "execute_result"
    }
   ],
   "source": [
    "orders[\"user_id\"].unique()"
   ]
  },
  {
   "cell_type": "code",
   "execution_count": 116,
   "id": "nervous-upgrade",
   "metadata": {},
   "outputs": [
    {
     "data": {
      "text/plain": [
       "206209"
      ]
     },
     "execution_count": 116,
     "metadata": {},
     "output_type": "execute_result"
    }
   ],
   "source": [
    "len(orders[\"user_id\"].unique())"
   ]
  },
  {
   "cell_type": "code",
   "execution_count": null,
   "id": "premier-topic",
   "metadata": {},
   "outputs": [],
   "source": [
    "!pip install randomuser"
   ]
  },
  {
   "cell_type": "code",
   "execution_count": null,
   "id": "promotional-pharmacy",
   "metadata": {},
   "outputs": [],
   "source": [
    "from randomuser import RandomUser\n",
    "import time"
   ]
  },
  {
   "cell_type": "code",
   "execution_count": null,
   "id": "soviet-williams",
   "metadata": {},
   "outputs": [],
   "source": [
    "user_list = []\n"
   ]
  },
  {
   "cell_type": "code",
   "execution_count": null,
   "id": "secure-guard",
   "metadata": {},
   "outputs": [],
   "source": [
    "while(len(user_list)< 206209):\n",
    "    time.sleep(60)\n",
    "    user_list +=RandomUser.generate_users(5000)\n",
    "    print(len(user_list))"
   ]
  },
  {
   "cell_type": "code",
   "execution_count": null,
   "id": "younger-bermuda",
   "metadata": {},
   "outputs": [],
   "source": [
    "len(user_list)"
   ]
  },
  {
   "cell_type": "code",
   "execution_count": null,
   "id": "faced-processor",
   "metadata": {},
   "outputs": [],
   "source": [
    "user_list = user_list[0:206209]"
   ]
  },
  {
   "cell_type": "code",
   "execution_count": null,
   "id": "behavioral-reduction",
   "metadata": {},
   "outputs": [],
   "source": [
    "data = pd.DataFrame({\"User\": user_list})"
   ]
  },
  {
   "cell_type": "code",
   "execution_count": null,
   "id": "democratic-episode",
   "metadata": {},
   "outputs": [],
   "source": [
    "data[\"first_name\"] = data[\"User\"].apply(lambda row: row.get_first_name())\n",
    "data[\"last_name\"] = data[\"User\"].apply(lambda row: row.get_last_name())\n",
    "data[\"gender\"] = data[\"User\"].apply(lambda row: row.get_gender())\n",
    "data[\"email\"] = data[\"User\"].apply(lambda row: row.get_email())\n",
    "data[\"phone\"] = data[\"User\"].apply(lambda row: row.get_phone())"
   ]
  },
  {
   "cell_type": "code",
   "execution_count": null,
   "id": "younger-insured",
   "metadata": {},
   "outputs": [],
   "source": [
    "import numpy as np\n",
    "import matplotlib.pyplot as plt"
   ]
  },
  {
   "cell_type": "code",
   "execution_count": null,
   "id": "married-timothy",
   "metadata": {},
   "outputs": [],
   "source": [
    "gfg = np.floor(np.random.gamma(20, 1.5, 206209)+9)\n",
    "  \n",
    "count, bins, ignored = plt.hist(gfg, 14, density = True)\n",
    "plt.show()"
   ]
  },
  {
   "cell_type": "code",
   "execution_count": null,
   "id": "random-moses",
   "metadata": {},
   "outputs": [],
   "source": [
    "np.max(gfg)"
   ]
  },
  {
   "cell_type": "code",
   "execution_count": null,
   "id": "informative-purple",
   "metadata": {},
   "outputs": [],
   "source": [
    "np.min(gfg)"
   ]
  },
  {
   "cell_type": "code",
   "execution_count": null,
   "id": "threatened-constitution",
   "metadata": {},
   "outputs": [],
   "source": [
    "data[\"age\"] = pd.DataFrame(gfg)"
   ]
  },
  {
   "cell_type": "code",
   "execution_count": null,
   "id": "middle-chart",
   "metadata": {},
   "outputs": [],
   "source": [
    "data =data[[\"first_name\",\"last_name\",\"gender\",\"email\",\"phone\",\"age\"]]"
   ]
  },
  {
   "cell_type": "code",
   "execution_count": null,
   "id": "compound-potato",
   "metadata": {},
   "outputs": [],
   "source": [
    "data['User_id'] = range(1, len(data) + 1)"
   ]
  },
  {
   "cell_type": "code",
   "execution_count": null,
   "id": "operating-omaha",
   "metadata": {},
   "outputs": [],
   "source": [
    "data.to_csv(\"users.csv\",index=False)"
   ]
  },
  {
   "cell_type": "code",
   "execution_count": 111,
   "id": "excess-creativity",
   "metadata": {},
   "outputs": [],
   "source": [
    "df = pd.read_csv(\"users.csv\")"
   ]
  },
  {
   "cell_type": "code",
   "execution_count": 112,
   "id": "exotic-value",
   "metadata": {},
   "outputs": [
    {
     "data": {
      "text/html": [
       "<div>\n",
       "<style scoped>\n",
       "    .dataframe tbody tr th:only-of-type {\n",
       "        vertical-align: middle;\n",
       "    }\n",
       "\n",
       "    .dataframe tbody tr th {\n",
       "        vertical-align: top;\n",
       "    }\n",
       "\n",
       "    .dataframe thead th {\n",
       "        text-align: right;\n",
       "    }\n",
       "</style>\n",
       "<table border=\"1\" class=\"dataframe\">\n",
       "  <thead>\n",
       "    <tr style=\"text-align: right;\">\n",
       "      <th></th>\n",
       "      <th>first_name</th>\n",
       "      <th>last_name</th>\n",
       "      <th>gender</th>\n",
       "      <th>email</th>\n",
       "      <th>phone</th>\n",
       "      <th>age</th>\n",
       "      <th>User_id</th>\n",
       "    </tr>\n",
       "  </thead>\n",
       "  <tbody>\n",
       "    <tr>\n",
       "      <th>0</th>\n",
       "      <td>Dioclene</td>\n",
       "      <td>da Costa</td>\n",
       "      <td>female</td>\n",
       "      <td>dioclene.dacosta@example.com</td>\n",
       "      <td>(43) 1818-7195</td>\n",
       "      <td>47.0</td>\n",
       "      <td>1</td>\n",
       "    </tr>\n",
       "    <tr>\n",
       "      <th>1</th>\n",
       "      <td>Lucile</td>\n",
       "      <td>Martin</td>\n",
       "      <td>female</td>\n",
       "      <td>lucile.martin@example.com</td>\n",
       "      <td>05-96-50-82-61</td>\n",
       "      <td>34.0</td>\n",
       "      <td>2</td>\n",
       "    </tr>\n",
       "    <tr>\n",
       "      <th>2</th>\n",
       "      <td>Lisandro</td>\n",
       "      <td>Melo</td>\n",
       "      <td>male</td>\n",
       "      <td>lisandro.melo@example.com</td>\n",
       "      <td>(97) 8182-5106</td>\n",
       "      <td>29.0</td>\n",
       "      <td>3</td>\n",
       "    </tr>\n",
       "    <tr>\n",
       "      <th>3</th>\n",
       "      <td>John</td>\n",
       "      <td>Calvo</td>\n",
       "      <td>male</td>\n",
       "      <td>john.calvo@example.com</td>\n",
       "      <td>968-243-221</td>\n",
       "      <td>55.0</td>\n",
       "      <td>4</td>\n",
       "    </tr>\n",
       "    <tr>\n",
       "      <th>4</th>\n",
       "      <td>Angel</td>\n",
       "      <td>Leon</td>\n",
       "      <td>male</td>\n",
       "      <td>angel.leon@example.com</td>\n",
       "      <td>985-906-622</td>\n",
       "      <td>47.0</td>\n",
       "      <td>5</td>\n",
       "    </tr>\n",
       "    <tr>\n",
       "      <th>...</th>\n",
       "      <td>...</td>\n",
       "      <td>...</td>\n",
       "      <td>...</td>\n",
       "      <td>...</td>\n",
       "      <td>...</td>\n",
       "      <td>...</td>\n",
       "      <td>...</td>\n",
       "    </tr>\n",
       "    <tr>\n",
       "      <th>206204</th>\n",
       "      <td>Hanna</td>\n",
       "      <td>Sullivan</td>\n",
       "      <td>female</td>\n",
       "      <td>hanna.sullivan@example.com</td>\n",
       "      <td>041-533-6077</td>\n",
       "      <td>42.0</td>\n",
       "      <td>206205</td>\n",
       "    </tr>\n",
       "    <tr>\n",
       "      <th>206205</th>\n",
       "      <td>Lenni</td>\n",
       "      <td>Lehtinen</td>\n",
       "      <td>male</td>\n",
       "      <td>lenni.lehtinen@example.com</td>\n",
       "      <td>06-078-751</td>\n",
       "      <td>36.0</td>\n",
       "      <td>206206</td>\n",
       "    </tr>\n",
       "    <tr>\n",
       "      <th>206206</th>\n",
       "      <td>Hilla</td>\n",
       "      <td>Raisanen</td>\n",
       "      <td>female</td>\n",
       "      <td>hilla.raisanen@example.com</td>\n",
       "      <td>07-612-527</td>\n",
       "      <td>44.0</td>\n",
       "      <td>206207</td>\n",
       "    </tr>\n",
       "    <tr>\n",
       "      <th>206207</th>\n",
       "      <td>Bjørnar</td>\n",
       "      <td>Gravem</td>\n",
       "      <td>male</td>\n",
       "      <td>bjornar.gravem@example.com</td>\n",
       "      <td>73453068</td>\n",
       "      <td>34.0</td>\n",
       "      <td>206208</td>\n",
       "    </tr>\n",
       "    <tr>\n",
       "      <th>206208</th>\n",
       "      <td>Oline</td>\n",
       "      <td>Bøhler</td>\n",
       "      <td>female</td>\n",
       "      <td>oline.bohler@example.com</td>\n",
       "      <td>33036052</td>\n",
       "      <td>33.0</td>\n",
       "      <td>206209</td>\n",
       "    </tr>\n",
       "  </tbody>\n",
       "</table>\n",
       "<p>206209 rows × 7 columns</p>\n",
       "</div>"
      ],
      "text/plain": [
       "       first_name last_name  gender                         email  \\\n",
       "0        Dioclene  da Costa  female  dioclene.dacosta@example.com   \n",
       "1          Lucile    Martin  female     lucile.martin@example.com   \n",
       "2        Lisandro      Melo    male     lisandro.melo@example.com   \n",
       "3            John     Calvo    male        john.calvo@example.com   \n",
       "4           Angel      Leon    male        angel.leon@example.com   \n",
       "...           ...       ...     ...                           ...   \n",
       "206204      Hanna  Sullivan  female    hanna.sullivan@example.com   \n",
       "206205      Lenni  Lehtinen    male    lenni.lehtinen@example.com   \n",
       "206206      Hilla  Raisanen  female    hilla.raisanen@example.com   \n",
       "206207    Bjørnar    Gravem    male    bjornar.gravem@example.com   \n",
       "206208      Oline    Bøhler  female      oline.bohler@example.com   \n",
       "\n",
       "                 phone   age  User_id  \n",
       "0       (43) 1818-7195  47.0        1  \n",
       "1       05-96-50-82-61  34.0        2  \n",
       "2       (97) 8182-5106  29.0        3  \n",
       "3          968-243-221  55.0        4  \n",
       "4          985-906-622  47.0        5  \n",
       "...                ...   ...      ...  \n",
       "206204    041-533-6077  42.0   206205  \n",
       "206205      06-078-751  36.0   206206  \n",
       "206206      07-612-527  44.0   206207  \n",
       "206207        73453068  34.0   206208  \n",
       "206208        33036052  33.0   206209  \n",
       "\n",
       "[206209 rows x 7 columns]"
      ]
     },
     "execution_count": 112,
     "metadata": {},
     "output_type": "execute_result"
    }
   ],
   "source": [
    "df"
   ]
  },
  {
   "cell_type": "code",
   "execution_count": null,
   "id": "periodic-gabriel",
   "metadata": {},
   "outputs": [],
   "source": []
  }
 ],
 "metadata": {
  "kernelspec": {
   "display_name": "Python 3",
   "language": "python",
   "name": "python3"
  },
  "language_info": {
   "codemirror_mode": {
    "name": "ipython",
    "version": 3
   },
   "file_extension": ".py",
   "mimetype": "text/x-python",
   "name": "python",
   "nbconvert_exporter": "python",
   "pygments_lexer": "ipython3",
   "version": "3.8.8"
  }
 },
 "nbformat": 4,
 "nbformat_minor": 5
}
